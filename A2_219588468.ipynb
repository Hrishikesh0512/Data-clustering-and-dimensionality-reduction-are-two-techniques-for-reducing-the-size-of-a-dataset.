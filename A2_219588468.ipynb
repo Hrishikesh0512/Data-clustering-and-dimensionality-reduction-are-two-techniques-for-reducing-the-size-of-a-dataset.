{
  "nbformat": 4,
  "nbformat_minor": 0,
  "metadata": {
    "colab": {
      "name": "A2_219588468.ipynb",
      "provenance": [],
      "collapsed_sections": []
    },
    "kernelspec": {
      "display_name": "Python 3",
      "language": "python",
      "name": "python3"
    },
    "language_info": {
      "codemirror_mode": {
        "name": "ipython",
        "version": 3
      },
      "file_extension": ".py",
      "mimetype": "text/x-python",
      "name": "python",
      "nbconvert_exporter": "python",
      "pygments_lexer": "ipython3",
      "version": "3.7.6"
    }
  },
  "cells": [
    {
      "cell_type": "markdown",
      "metadata": {
        "colab_type": "text",
        "id": "06bbe_5WGk3v"
      },
      "source": [
        "#**SIT 720 - Machine Learning**\n",
        "\n",
        "Lecturer: Chandan Karmakar | karmakar@deakin.edu.au\n",
        "\n",
        "School of Information Technology,\n",
        "<br/>Deakin University, VIC 3125, Australia."
      ]
    },
    {
      "cell_type": "markdown",
      "metadata": {
        "colab_type": "text",
        "id": "es6VJF6zGpZi"
      },
      "source": [
        "#**Assessment Task 2 (30 marks)**\n",
        "\n",
        "##**Submission Instruction**\n",
        "1.  Student should insert Python code or text responses into the cell followed by the question.\n",
        "\n",
        "2.  For answers regarding discussion or explanation, **maximum five sentences are suggested**.\n",
        "\n",
        "3.  Rename this notebook file appending your student ID. For example, for student ID 1234, the submitted file name should be A2_1234.ipynb.\n",
        "\n",
        "4.  Insert your student ID and name in the following cell."
      ]
    },
    {
      "cell_type": "code",
      "metadata": {
        "colab_type": "code",
        "id": "IeD67KEpG8I6",
        "colab": {}
      },
      "source": [
        "#STUDENT ID:219588468\n",
        "#NAME:HRISHIKESH JOSHI"
      ],
      "execution_count": 1,
      "outputs": []
    },
    {
      "cell_type": "markdown",
      "metadata": {
        "colab_type": "text",
        "id": "oYFXM_D7HCHb"
      },
      "source": [
        "## Part 1: Clustering *(15 marks)*\n",
        "\n",
        "Let's assume you want to design an environment to predict a class/category from a dataset based on specific features of that class. However, all the features are not strong enough or in other words features not that much variance/uniqueness across the classes. So, you have to design a clustering model by answering the following questions:\n",
        "\n",
        "1. Download the attached clustering.csv file. Read the file and separate the class and feature matrix. __(2 marks)__"
      ]
    },
    {
      "cell_type": "code",
      "metadata": {
        "colab_type": "code",
        "id": "crKN9O9jKi4w",
        "colab": {
          "base_uri": "https://localhost:8080/",
          "height": 266
        },
        "outputId": "b956c232-c90f-463b-dc21-c8f31c46969a"
      },
      "source": [
        "import pandas as pd\n",
        "import io\n",
        "import requests\n",
        "import numpy as np\n",
        "url=\"https://raw.githubusercontent.com/hrishikeshabcd123/ML/master/clustering.csv\"\n",
        "s=requests.get(url).content\n",
        "clusterdata =pd.read_csv(io.StringIO(s.decode('utf-8')))\n",
        "print(clusterdata)\n",
        "\n",
        "cfeatures =  clusterdata.iloc[:,:-1]\n",
        "cclass = clusterdata.Class\n"
      ],
      "execution_count": 4,
      "outputs": [
        {
          "output_type": "stream",
          "text": [
            "     height  length   width    std    min    max  kurtosis  Class\n",
            "0     15.26   14.84  0.8710  5.763  3.312  2.221     5.220      0\n",
            "1     14.88   14.57  0.8811  5.554  3.333  1.018     4.956      0\n",
            "2     14.29   14.09  0.9050  5.291  3.337  2.699     4.825      0\n",
            "3     13.84   13.94  0.8955  5.324  3.379  2.259     4.805      0\n",
            "4     16.14   14.99  0.9034  5.658  3.562  1.355     5.175      0\n",
            "..      ...     ...     ...    ...    ...    ...       ...    ...\n",
            "205   12.19   13.20  0.8783  5.137  2.981  3.631     4.870      2\n",
            "206   11.23   12.88  0.8511  5.140  2.795  4.325     5.003      2\n",
            "207   13.20   13.66  0.8883  5.236  3.232  8.315     5.056      2\n",
            "208   11.84   13.21  0.8521  5.175  2.836  3.598     5.044      2\n",
            "209   12.30   13.34  0.8684  5.243  2.974  5.637     5.063      2\n",
            "\n",
            "[210 rows x 8 columns]\n"
          ],
          "name": "stdout"
        }
      ]
    },
    {
      "cell_type": "markdown",
      "metadata": {
        "colab_type": "text",
        "id": "3CYvoztIKjoq"
      },
      "source": [
        "2. Determine the number of clusters from the dataset. Is this same as the actual number of classes in the dataset? __(1 marks)__\n",
        "\n",
        "<!-- Choose the best three features using different selection criteria (ANOVA, Chi-squared) based on the purity score for the k-mean cluster (Euclidean distance matrix). Which one is good and why? __(5 marks)__ -->"
      ]
    },
    {
      "cell_type": "code",
      "metadata": {
        "colab_type": "code",
        "id": "WFia7uNt5POP",
        "colab": {
          "base_uri": "https://localhost:8080/",
          "height": 350
        },
        "outputId": "f74dd3a7-7028-4a32-f3e0-c7c381712078"
      },
      "source": [
        "\n",
        "\n",
        "from sklearn.cluster import KMeans\n",
        "import matplotlib.pyplot as plt\n",
        "\n",
        "temp=clusterdata\n",
        "dist = []\n",
        "K=range(1,10)\n",
        "for k in K:\n",
        "    kmeanModel = KMeans(n_clusters = k ).fit(temp)\n",
        "    kmeanModel.fit(temp)\n",
        "    dist.append(kmeanModel.inertia_)\n",
        "\n",
        "plt.figure(figsize=(10,5))\n",
        "plt.plot(K, dist, 'b*-')\n",
        "plt.xlabel('k value ')\n",
        "plt.ylabel('Distortion')\n",
        "plt.title('The Elbow Plot showing optimal k')\n",
        "plt.show()\n"
      ],
      "execution_count": 5,
      "outputs": [
        {
          "output_type": "display_data",
          "data": {
            "image/png": "[encoded data removed]",
            "text/plain": [
              "<Figure size 720x360 with 1 Axes>"
            ]
          },
          "metadata": {
            "tags": [],
            "needs_background": "light"
          }
        }
      ]
    },
    {
      "cell_type": "markdown",
      "metadata": {
        "id": "TmGkWoswTM-p",
        "colab_type": "text"
      },
      "source": [
        "The elbow plot shows the optimal number of clusters is 3 which is equal to the number of classes(0,1,2) given in the dataset."
      ]
    },
    {
      "cell_type": "markdown",
      "metadata": {
        "colab_type": "text",
        "id": "lomdzPf33Ga8"
      },
      "source": [
        "3. Perform K-Means clustering on the complete dataset and report purity score. __(2 marks)__ "
      ]
    },
    {
      "cell_type": "code",
      "metadata": {
        "colab_type": "code",
        "id": "UaI08RF5KoPK",
        "colab": {
          "base_uri": "https://localhost:8080/",
          "height": 248
        },
        "outputId": "9fc90787-da07-46d6-e7f3-e7e883f0f636"
      },
      "source": [
        "\n",
        "kmeans = KMeans(n_clusters = 3)\n",
        "kmeans = kmeans.fit(cfeatures)\n",
        "clabels = kmeans.labels_\n",
        "ccentroids = kmeans.cluster_centers_\n",
        "\n",
        "print(clabels)\n",
        "print(ccentroids)\n",
        "\n",
        "def purity_score(ccentroids):\n",
        "    matrix = {              \n",
        "        0: [0,0,0],\n",
        "        1: [0,0,0],\n",
        "        2: [0,0,0]\n",
        "    }\n",
        "    \n",
        "    \n",
        "    for i in range(len(cclass)):\n",
        "           matrix[clabels[i]][cclass[i]] += 1\n",
        "    purity_sc = (max(matrix[0])+max(matrix[1])+max(matrix[2]))/len(cclass)\n",
        "    purity_sc = round(purity_sc*100,2)\n",
        "    return purity_sc\n",
        "\n",
        "print(\"Purity score:\", purity_score(ccentroids),\"%\")\n"
      ],
      "execution_count": 6,
      "outputs": [
        {
          "output_type": "stream",
          "text": [
            "[2 2 2 2 2 2 2 2 2 2 2 2 2 2 2 2 1 2 2 1 2 2 2 2 2 2 1 2 2 2 2 2 2 2 2 2 2\n",
            " 0 2 1 2 2 2 2 2 2 2 2 2 2 2 2 2 2 2 2 2 2 2 2 1 1 1 1 2 2 2 2 2 1 0 0 0 0\n",
            " 0 0 0 0 0 0 0 0 0 0 0 0 0 0 0 0 0 0 0 0 0 0 0 0 0 0 2 0 0 0 0 0 0 0 0 0 0\n",
            " 0 0 0 0 0 0 0 0 0 0 0 2 0 2 0 0 0 0 0 0 0 2 2 2 2 0 2 2 2 1 1 1 1 1 1 1 1\n",
            " 1 1 1 1 1 1 1 1 1 1 1 1 1 1 1 1 1 1 1 1 1 1 1 1 1 1 1 1 1 1 1 2 1 1 1 1 1\n",
            " 1 1 1 1 1 1 1 1 1 1 1 1 1 1 1 1 2 1 1 1 1 1 1 1 1]\n",
            "[[18.72180328 16.29737705  0.88508689  6.20893443  3.72267213  3.60359016\n",
            "   6.06609836]\n",
            " [11.96441558 13.27480519  0.8522      5.22928571  2.87292208  4.75974026\n",
            "   5.08851948]\n",
            " [14.64847222 14.46041667  0.87916667  5.56377778  3.27790278  2.64893333\n",
            "   5.19231944]]\n",
            "Purity score: 89.52 %\n"
          ],
          "name": "stdout"
        }
      ]
    },
    {
      "cell_type": "markdown",
      "metadata": {
        "id": "h7IbsGTzTM-t",
        "colab_type": "text"
      },
      "source": [
        "The purity score of 89.52% indicates approximately 90 of 210 observations are correctly assigned to respective cluster."
      ]
    },
    {
      "cell_type": "markdown",
      "metadata": {
        "colab_type": "text",
        "id": "CsImMLOzK1dV"
      },
      "source": [
        "4. There are several distance metrics for  K-Means such as euclidean, squared euclidean, Manhattan, Chebyshev, Minkowski. [ __Hints:__ See the pyclustering library for python.]\n",
        "    - Your job is to compare the purity score of k-means clustering for different distance metrics. __(5 marks)__ \n",
        "    - Select the best distance metric and explain why this distance metric is best for the given dataset. __(2 marks)__ "
      ]
    },
    {
      "cell_type": "code",
      "metadata": {
        "id": "B_NEZ-k-TM-t",
        "colab_type": "code",
        "colab": {
          "base_uri": "https://localhost:8080/",
          "height": 284
        },
        "outputId": "74b3b3fc-de5d-4518-e8a8-77777a8f0824"
      },
      "source": [
        "!pip install pyclustering\n",
        "from pyclustering.cluster.kmeans import kmeans, kmeans_visualizer\n",
        "from pyclustering.cluster.center_initializer import kmeans_plusplus_initializer\n",
        "from pyclustering.utils.metric import distance_metric, type_metric\n",
        "\n",
        "def pscore(kdist):\n",
        "    new_matrix = {\n",
        "        0: [0,0,0],\n",
        "        1: [0,0,0],\n",
        "        2: [0,0,0]\n",
        "    }\n",
        "    for cluster in range(3):\n",
        "        for i in kdist[cluster]:\n",
        "            new_matrix[cluster][cclass[i]] += 1\n",
        "    pscore = (max(new_matrix[0])+max(new_matrix[1])+max(new_matrix[2]))/len(cclass)\n",
        "    pscore = round(pscore*100,2)\n",
        "    return pscore\n",
        "\n",
        "\n",
        "cinitial = kmeans_plusplus_initializer(cfeatures, 3).initialize()\n",
        "\n",
        "#Euclidian Method\n",
        "eu_dist = distance_metric(type_metric.EUCLIDEAN)\n",
        "eu_instance = kmeans(cfeatures, cinitial,metric=eu_dist)\n",
        "eu_instance.process()\n",
        "eu_clusters = eu_instance.get_clusters()\n",
        "print(\"Purity score for Euclidian Method:\", round(purity_score(eu_clusters),2), \"%\")\n",
        "\n",
        "#Manhattan method \n",
        "m_dist = distance_metric(type_metric.MANHATTAN)\n",
        "m_instance = kmeans(cfeatures, cinitial, metric=m_dist)\n",
        "m_instance.process()\n",
        "m_clusters = m_instance.get_clusters()\n",
        "print(\"Purity score for Manhattan Method:\", round(purity_score(m_clusters),2), \"%\")\n",
        "\n",
        "#Squared euclidean method\n",
        "sqeu_dist = distance_metric(type_metric.EUCLIDEAN_SQUARE)\n",
        "sqeu_instance = kmeans(cfeatures, cinitial, metric=sqeu_dist)\n",
        "sqeu_instance.process()\n",
        "sqeu_clusters = sqeu_instance.get_clusters()\n",
        "print(\"Purity score for Squared euclidian method:\",round(purity_score(sqeu_clusters),2),\"%\")\n",
        "\n",
        "#Chebysev method\n",
        "ch_dist = distance_metric(type_metric.CHEBYSHEV)\n",
        "ch_instance = kmeans(cfeatures, cinitial, metric=ch_dist)\n",
        "ch_instance.process()\n",
        "ch_clusters = ch_instance.get_clusters()\n",
        "print(\"Purity score for Chebysev method:\",round(purity_score(ch_clusters),2),\"%\")\n",
        "\n",
        "#Minkowski method, p = 4\n",
        "mi_dist = distance_metric(type_metric.MINKOWSKI, degree =4)\n",
        "mi_instance = kmeans(cfeatures, cinitial, metric=mi_dist)\n",
        "mi_instance.process()\n",
        "mi_clusters = mi_instance.get_clusters()\n",
        "print(\"Purity score for Minkowski method:\",round(purity_score(mi_clusters),2),\"%\")"
      ],
      "execution_count": 14,
      "outputs": [
        {
          "output_type": "stream",
          "text": [
            "Requirement already satisfied: pyclustering in /usr/local/lib/python3.6/dist-packages (0.10.0.1)\n",
            "Requirement already satisfied: numpy in /usr/local/lib/python3.6/dist-packages (from pyclustering) (1.18.5)\n",
            "Requirement already satisfied: Pillow in /usr/local/lib/python3.6/dist-packages (from pyclustering) (7.0.0)\n",
            "Requirement already satisfied: scipy in /usr/local/lib/python3.6/dist-packages (from pyclustering) (1.4.1)\n",
            "Requirement already satisfied: matplotlib in /usr/local/lib/python3.6/dist-packages (from pyclustering) (3.2.2)\n",
            "Requirement already satisfied: kiwisolver>=1.0.1 in /usr/local/lib/python3.6/dist-packages (from matplotlib->pyclustering) (1.2.0)\n",
            "Requirement already satisfied: python-dateutil>=2.1 in /usr/local/lib/python3.6/dist-packages (from matplotlib->pyclustering) (2.8.1)\n",
            "Requirement already satisfied: pyparsing!=2.0.4,!=2.1.2,!=2.1.6,>=2.0.1 in /usr/local/lib/python3.6/dist-packages (from matplotlib->pyclustering) (2.4.7)\n",
            "Requirement already satisfied: cycler>=0.10 in /usr/local/lib/python3.6/dist-packages (from matplotlib->pyclustering) (0.10.0)\n",
            "Requirement already satisfied: six>=1.5 in /usr/local/lib/python3.6/dist-packages (from python-dateutil>=2.1->matplotlib->pyclustering) (1.15.0)\n",
            "Purity score for Euclidian Method: 89.52 %\n",
            "Purity score for Manhattan Method: 89.52 %\n",
            "Purity score for Squared euclidian method: 89.52 %\n",
            "Purity score for Chebysev method: 89.52 %\n",
            "Purity score for Minkowski method: 89.52 %\n"
          ],
          "name": "stdout"
        }
      ]
    },
    {
      "cell_type": "markdown",
      "metadata": {
        "id": "GxskiUA9TM-w",
        "colab_type": "text"
      },
      "source": [
        "The best purity score has been obtained for Euclidean metric."
      ]
    },
    {
      "cell_type": "markdown",
      "metadata": {
        "colab_type": "text",
        "id": "xsG5SQti4b7E"
      },
      "source": [
        "5. Use selection criteria (ANOVA, Chi-squared) to select best three features and use them for K-Means clustering. Based on the purity score which feature set are you going to recommend and why? __(3 marks)__"
      ]
    },
    {
      "cell_type": "code",
      "metadata": {
        "id": "xkMxFeTpTM-y",
        "colab_type": "code",
        "colab": {
          "base_uri": "https://localhost:8080/",
          "height": 35
        },
        "outputId": "25b13b1e-227e-47ea-fab8-8d0d53202b67"
      },
      "source": [
        "from sklearn.feature_selection import SelectKBest, chi2, f_classif\n",
        "chiselect= SelectKBest(chi2, k=3)\n",
        "chidata= chiselect.fit_transform(cfeatures,cclass)\n",
        "print(\"Best 3 features calculated using chi square test:\",clusterdata.columns[chiselect.get_support(indices=True)].tolist())"
      ],
      "execution_count": 15,
      "outputs": [
        {
          "output_type": "stream",
          "text": [
            "Best 3 features calculated using chi square test: ['height', 'length', 'max']\n"
          ],
          "name": "stdout"
        }
      ]
    },
    {
      "cell_type": "code",
      "metadata": {
        "colab_type": "code",
        "id": "9lCTzujBKpL4",
        "colab": {
          "base_uri": "https://localhost:8080/",
          "height": 141
        },
        "outputId": "856efc40-8a40-456c-eaa4-07a8a75393a7"
      },
      "source": [
        "\n",
        "chidata = pd.DataFrame(chidata, columns=[\"height\",\"length\",\"max\"])\n",
        "print(chidata.head()) #new dataset with 3 best features from Chi square selection\n",
        "chi_kmeans = KMeans(n_clusters = 3).fit(chidata)\n",
        "clabels = chi_kmeans.labels_\n",
        "\n",
        "#assigning labels to clustering matrix\n",
        "chi_matrix = {\n",
        "    0: [0,0,0],\n",
        "    1: [0,0,0],\n",
        "    2: [0,0,0]\n",
        "}\n",
        "for i in range(len(cclass)):\n",
        "    chi_matrix[clabels[i]][cclass[i]] += 1\n",
        "    \n",
        "chi_purity = (max(chi_matrix[0])+max(chi_matrix[1])+max(chi_matrix[2]))/len(cclass)\n",
        "print(\"Purity score:\",round(chi_purity*100, 2),\"%\")\n"
      ],
      "execution_count": 16,
      "outputs": [
        {
          "output_type": "stream",
          "text": [
            "   height  length    max\n",
            "0   15.26   14.84  2.221\n",
            "1   14.88   14.57  1.018\n",
            "2   14.29   14.09  2.699\n",
            "3   13.84   13.94  2.259\n",
            "4   16.14   14.99  1.355\n",
            "Purity score: 89.52 %\n"
          ],
          "name": "stdout"
        }
      ]
    },
    {
      "cell_type": "code",
      "metadata": {
        "id": "mC7Z7bFRTM-2",
        "colab_type": "code",
        "colab": {
          "base_uri": "https://localhost:8080/",
          "height": 35
        },
        "outputId": "43ef4da9-f755-4e16-adac-ceb77c1285e1"
      },
      "source": [
        "\n",
        "anovaselect= SelectKBest(f_classif, k=3)\n",
        "anovadata= anovaselect.fit_transform(cfeatures,cclass)\n",
        "print(\"Best 3 features calculated using ANNOVA test\",clusterdata.columns[anovaselect.get_support(indices=True)].tolist()) #getting the 3 best columns i.e. features\n"
      ],
      "execution_count": 17,
      "outputs": [
        {
          "output_type": "stream",
          "text": [
            "Best 3 features calculated using ANNOVA test ['height', 'length', 'min']\n"
          ],
          "name": "stdout"
        }
      ]
    },
    {
      "cell_type": "code",
      "metadata": {
        "id": "CYks4CgITM-5",
        "colab_type": "code",
        "colab": {
          "base_uri": "https://localhost:8080/",
          "height": 141
        },
        "outputId": "fda774b7-43c1-4a80-8c73-5111b01dd83c"
      },
      "source": [
        "\n",
        "anovadata= pd.DataFrame(anovadata, columns=[\"height\",\"lenght\",\"min\"])\n",
        "print(anovadata.head()) #new dataset with 3 best features from ANOVA selection\n",
        "anova_kmeans = KMeans(n_clusters = 3).fit(anovadata)\n",
        "anova_labels = anova_kmeans.labels_\n",
        "\n",
        "matrix_anova = {\n",
        "    0: [0,0,0],\n",
        "    1: [0,0,0],\n",
        "    2: [0,0,0]\n",
        "}\n",
        "for i in range(len(cclass)):\n",
        "   matrix_anova[anova_labels[i]][cclass[i]] += 1\n",
        "\n",
        "anova_purity = (max(matrix_anova[0])+max(matrix_anova[1])+max(matrix_anova[2]))/len(cclass)\n",
        "print(\"Purity score:\",round(anova_purity*100, 2),\"%\")"
      ],
      "execution_count": 18,
      "outputs": [
        {
          "output_type": "stream",
          "text": [
            "   height  lenght    min\n",
            "0   15.26   14.84  3.312\n",
            "1   14.88   14.57  3.333\n",
            "2   14.29   14.09  3.337\n",
            "3   13.84   13.94  3.379\n",
            "4   16.14   14.99  3.562\n",
            "Purity score: 84.29 %\n"
          ],
          "name": "stdout"
        }
      ]
    },
    {
      "cell_type": "markdown",
      "metadata": {
        "id": "vKZYrNNATM-7",
        "colab_type": "text"
      },
      "source": [
        "From the above results, we can see the purity score for the dataset with Chi-square selection method is higher and matches to the purity score of the original dataset.Hence, chi square feature selection is more appropriate with the best features being 'height, 'length' and 'max'."
      ]
    },
    {
      "cell_type": "markdown",
      "metadata": {
        "colab_type": "text",
        "id": "Key1p4RKLEW9"
      },
      "source": [
        "# Part-2 (Dimensionality Reduction using PCA/SVD) *(15 marks)*\n",
        "\n",
        "1. For the dataset (clustering.csv), perform PCA.\n",
        "    - plot the captured variance with respect to increasing latent dimensionality. __(2.5 marks)__\n",
        "  \n",
        "  What is the minimum dimension that captures:\n",
        "    - at least 89% variance? __(1.5 marks)__\n",
        "    - at least 99% variance? __(1 marks)__"
      ]
    },
    {
      "cell_type": "code",
      "metadata": {
        "colab_type": "code",
        "id": "EkJU33yYKpen",
        "colab": {
          "base_uri": "https://localhost:8080/",
          "height": 439
        },
        "outputId": "f04a428b-eeab-48cf-c0d9-1e86af606ea4"
      },
      "source": [
        "\n",
        "from sklearn.preprocessing import scale\n",
        "from sklearn.decomposition import PCA\n",
        "nomralized = scale(clusterdata)\n",
        "\n",
        "\n",
        "from sklearn.decomposition import PCA\n",
        "pca = PCA(n_components=7)\n",
        "pca = pca.fit(nomralized)\n",
        "print(pca)\n",
        "print('*'*50)\n",
        "V= pca.explained_variance_ratio_\n",
        "print(V)\n",
        "print('*'*50)\n",
        "V1=np.cumsum(np.round(V, decimals=4)*100)\n",
        "print(V1)\n",
        "print('*'*50)\n",
        "plt.plot(V1)\n",
        "plt.xlabel(\"PCAs\")\n",
        "plt.ylabel(\"Variance\")\n"
      ],
      "execution_count": 23,
      "outputs": [
        {
          "output_type": "stream",
          "text": [
            "PCA(copy=True, iterated_power='auto', n_components=7, random_state=None,\n",
            "    svd_solver='auto', tol=0.0, whiten=False)\n",
            "**************************************************\n",
            "[0.64839201 0.21223507 0.08488145 0.04618012 0.00564185 0.00191687\n",
            " 0.00066636]\n",
            "**************************************************\n",
            "[64.84 86.06 94.55 99.17 99.73 99.92 99.99]\n",
            "**************************************************\n"
          ],
          "name": "stdout"
        },
        {
          "output_type": "execute_result",
          "data": {
            "text/plain": [
              "Text(0, 0.5, 'Variance')"
            ]
          },
          "metadata": {
            "tags": []
          },
          "execution_count": 23
        },
        {
          "output_type": "display_data",
          "data": {
            "image/png": "[encoded data removed]",
            "text/plain": [
              "<Figure size 432x288 with 1 Axes>"
            ]
          },
          "metadata": {
            "tags": [],
            "needs_background": "light"
          }
        }
      ]
    },
    {
      "cell_type": "code",
      "metadata": {
        "id": "fRP6wdoJTM-_",
        "colab_type": "code",
        "colab": {
          "base_uri": "https://localhost:8080/",
          "height": 52
        },
        "outputId": "a0d9aee4-9b71-42e5-c8a2-e064681052cb"
      },
      "source": [
        "\n",
        "PCA89 = PCA(n_components= 0.89)\n",
        "DATA89 = PCA89.fit_transform(nomralized)\n",
        "print(\"Minimum dimension capturing atleast 89% variance:\",DATA89.shape[1])\n",
        "\n",
        "\n",
        "DATA99 = PCA(n_components= 0.99)\n",
        "DATA99 = DATA99.fit_transform(nomralized)\n",
        "print(\"Minimum dimension capturing atleast 99% variance:\",DATA99.shape[1])"
      ],
      "execution_count": 24,
      "outputs": [
        {
          "output_type": "stream",
          "text": [
            "Minimum dimension capturing atleast 89% variance: 3\n",
            "Minimum dimension capturing atleast 99% variance: 4\n"
          ],
          "name": "stdout"
        }
      ]
    },
    {
      "cell_type": "markdown",
      "metadata": {
        "colab_type": "text",
        "id": "x9JPYP0vLKzp"
      },
      "source": [
        "2. Determine the purity of clusters formed by the number of principal components which captured 89% and 99% variances respectively. Plot a line graph of the purity scores against the captured variances. Discuss your findings. __(7 marks)__"
      ]
    },
    {
      "cell_type": "code",
      "metadata": {
        "colab_type": "code",
        "id": "8_a-xp2PKpya",
        "colab": {
          "base_uri": "https://localhost:8080/",
          "height": 336
        },
        "outputId": "255c811f-9035-45c0-cdf5-127fb796a5ae"
      },
      "source": [
        "kVAR89= KMeans(n_clusters = 3).fit(DATA89)\n",
        "VAR89_labels = kVAR89.labels_\n",
        "\n",
        "matrix_VAR89 = {\n",
        "    0: [0,0,0],\n",
        "    1: [0,0,0],\n",
        "    2: [0,0,0]\n",
        "}\n",
        "for i in range(len(cclass)):\n",
        "    matrix_VAR89[VAR89_labels[i]][cclass[i]] += 1\n",
        "\n",
        "\n",
        "VAR89_purity = (max(matrix_VAR89[0])+max(matrix_VAR89[1])+max(matrix_VAR89[2]))/len(cclass)\n",
        "print(\"The purity score for k-mean on clusters capturing atleast 89% variance:\",round(VAR89_purity*100,2),\"%\")\n",
        "\n",
        "kVAR99 = KMeans(n_clusters = 3).fit(DATA99)\n",
        "VAR99_labels = kVAR99.labels_\n",
        "\n",
        "matrix_VAR99 = {\n",
        "    0: [0,0,0],\n",
        "    1: [0,0,0],\n",
        "    2: [0,0,0]\n",
        "}\n",
        "for i in range(len(cclass)):\n",
        "    matrix_VAR99[VAR99_labels[i]][cclass[i]] += 1\n",
        "\n",
        "VAR99_purity = (max(matrix_VAR99[0])+max(matrix_VAR99[1])+max(matrix_VAR99[2]))/len(cclass)\n",
        "print(\"The purity score for k-mean on clusters capturing atleast 89% variance:\",round(VAR99_purity*100,2),\"%\")\n",
        "\n",
        "purity_scores = [round(VAR89_purity*100,2),round(VAR99_purity*100,2)] \n",
        "variances = [89,99]\n",
        "plt.ylim(88, 100)\n",
        "plt.xlim(97, 98.2)\n",
        "plt.plot(purity_scores,variances)\n",
        "plt.ylabel(\"Variance in %\")\n",
        "plt.xlabel(\"Purity scores in %\")"
      ],
      "execution_count": 30,
      "outputs": [
        {
          "output_type": "stream",
          "text": [
            "The purity score for k-mean on clusters capturing atleast 89% variance: 97.14 %\n",
            "The purity score for k-mean on clusters capturing atleast 89% variance: 98.1 %\n"
          ],
          "name": "stdout"
        },
        {
          "output_type": "execute_result",
          "data": {
            "text/plain": [
              "Text(0.5, 0, 'Purity scores in %')"
            ]
          },
          "metadata": {
            "tags": []
          },
          "execution_count": 30
        },
        {
          "output_type": "display_data",
          "data": {
            "image/png": "[encoded data removed]",
            "text/plain": [
              "<Figure size 432x288 with 1 Axes>"
            ]
          },
          "metadata": {
            "tags": [],
            "needs_background": "light"
          }
        }
      ]
    },
    {
      "cell_type": "markdown",
      "metadata": {
        "colab_type": "text",
        "id": "8RmhzV_MK-ia"
      },
      "source": [
        "3. Let's assume you have two datasets one is linear and another is curved structural data.\n",
        "    - Can we apply PCA on these datasets? Justify your answer. __(3 marks)__ "
      ]
    },
    {
      "cell_type": "code",
      "metadata": {
        "colab_type": "code",
        "id": "_9NpVDBwKqD-",
        "colab": {}
      },
      "source": [
        "#For getting the optimum output,It's neccesary that PCA is applied on linaerly structured data where variables are scaled with same unit,It's also necessary that data is normalized before performing PCA\n",
        "#PCA Performes rotation over given axes,Since rotation operatior is a linear operator & axis frame captures every bit of variance,We can't apply PCA on curved dataset.\n",
        "#If we apply PCA on curved datast,then there will be high number of dimensions with nonzero weight & the goal of PCA is to minizie them with significent weight\n",
        "\n"
      ],
      "execution_count": 31,
      "outputs": []
    }
  ]
}